{
 "cells": [
  {
   "attachments": {},
   "cell_type": "markdown",
   "metadata": {},
   "source": [
    "Research question: People with autism tend to demonstrate higher levels of alexithymia (inability to identify one's own emotion). Theories state that it may be that people with austism also tend to have alexithymia, not necessarily that alexithymia is a symptom of autism. There are many scales to measure both autism and alexithymia separately. If a person scores high for having autism will their score for alexityhmia also be high?\n",
    "Hypothesis: Scores on the Social Responsiveness Scale (SRS-2) will be highly correlated with scores from the Toronto Alexithymia Scale (TAS-20).\n",
    "\n",
    "For my analysis, I plan on running a Pearson's correlation to determine if there is a relationship between the scores of the SRS-2 and the TAS-20. \n",
    "\n",
    "My program will read in the tsv file that contains the scores for each participant for both scales. The program will then run a Pearson's r correlation to examine the relationship between alexithymia and autism. In addition, the program will provide a graph to demonstrate the results and show whether there is a strong, positive or strong negative correlation between the two scores. If the correlation coefficient is above .70, it is expected that there is a strong correlation. The program will also provide a p value and confidence interval. "
   ]
  },
  {
   "cell_type": "code",
   "execution_count": 1,
   "metadata": {},
   "outputs": [],
   "source": [
    "#I am separating the blocks to indicate this is all this piece of code is doing. \n",
    "#This is importing the pandas directories.\n",
    "import pandas as pd\n"
   ]
  },
  {
   "cell_type": "code",
   "execution_count": 2,
   "metadata": {},
   "outputs": [
    {
     "data": {
      "text/html": [
       "<div>\n",
       "<style scoped>\n",
       "    .dataframe tbody tr th:only-of-type {\n",
       "        vertical-align: middle;\n",
       "    }\n",
       "\n",
       "    .dataframe tbody tr th {\n",
       "        vertical-align: top;\n",
       "    }\n",
       "\n",
       "    .dataframe thead th {\n",
       "        text-align: right;\n",
       "    }\n",
       "</style>\n",
       "<table border=\"1\" class=\"dataframe\">\n",
       "  <thead>\n",
       "    <tr style=\"text-align: right;\">\n",
       "      <th></th>\n",
       "      <th>ID</th>\n",
       "      <th>Gender</th>\n",
       "      <th>Age</th>\n",
       "      <th>TAS-20</th>\n",
       "      <th>SRS</th>\n",
       "    </tr>\n",
       "  </thead>\n",
       "  <tbody>\n",
       "    <tr>\n",
       "      <th>0</th>\n",
       "      <td>1</td>\n",
       "      <td>2</td>\n",
       "      <td>14</td>\n",
       "      <td>43</td>\n",
       "      <td>51</td>\n",
       "    </tr>\n",
       "    <tr>\n",
       "      <th>1</th>\n",
       "      <td>2</td>\n",
       "      <td>2</td>\n",
       "      <td>11</td>\n",
       "      <td>44</td>\n",
       "      <td>60</td>\n",
       "    </tr>\n",
       "    <tr>\n",
       "      <th>2</th>\n",
       "      <td>3</td>\n",
       "      <td>2</td>\n",
       "      <td>16</td>\n",
       "      <td>60</td>\n",
       "      <td>75</td>\n",
       "    </tr>\n",
       "  </tbody>\n",
       "</table>\n",
       "</div>"
      ],
      "text/plain": [
       "   ID  Gender  Age  TAS-20  SRS\n",
       "0   1       2   14      43   51\n",
       "1   2       2   11      44   60\n",
       "2   3       2   16      60   75"
      ]
     },
     "execution_count": 2,
     "metadata": {},
     "output_type": "execute_result"
    }
   ],
   "source": [
    "#New block to read in the file\n",
    "scores_csv = 'Dataset_TAS_SRS.csv'\n",
    "\n",
    "\n",
    "df = pd.read_csv(scores_csv)\n",
    "\n",
    "#This displays a couple rows to make sure it is seeing the file properly. \n",
    "df.head(3)\n"
   ]
  },
  {
   "cell_type": "code",
   "execution_count": 5,
   "metadata": {},
   "outputs": [
    {
     "data": {
      "text/html": [
       "<div>\n",
       "<style scoped>\n",
       "    .dataframe tbody tr th:only-of-type {\n",
       "        vertical-align: middle;\n",
       "    }\n",
       "\n",
       "    .dataframe tbody tr th {\n",
       "        vertical-align: top;\n",
       "    }\n",
       "\n",
       "    .dataframe thead th {\n",
       "        text-align: right;\n",
       "    }\n",
       "</style>\n",
       "<table border=\"1\" class=\"dataframe\">\n",
       "  <thead>\n",
       "    <tr style=\"text-align: right;\">\n",
       "      <th></th>\n",
       "      <th>ID</th>\n",
       "      <th>Gender</th>\n",
       "      <th>Age</th>\n",
       "      <th>TAS-20</th>\n",
       "      <th>SRS</th>\n",
       "    </tr>\n",
       "  </thead>\n",
       "  <tbody>\n",
       "    <tr>\n",
       "      <th>ID</th>\n",
       "      <td>1.000000</td>\n",
       "      <td>-0.002548</td>\n",
       "      <td>-0.011183</td>\n",
       "      <td>-0.004586</td>\n",
       "      <td>-0.020604</td>\n",
       "    </tr>\n",
       "    <tr>\n",
       "      <th>Gender</th>\n",
       "      <td>-0.002548</td>\n",
       "      <td>1.000000</td>\n",
       "      <td>-0.026359</td>\n",
       "      <td>0.131823</td>\n",
       "      <td>-0.044623</td>\n",
       "    </tr>\n",
       "    <tr>\n",
       "      <th>Age</th>\n",
       "      <td>-0.011183</td>\n",
       "      <td>-0.026359</td>\n",
       "      <td>1.000000</td>\n",
       "      <td>0.023686</td>\n",
       "      <td>-0.007582</td>\n",
       "    </tr>\n",
       "    <tr>\n",
       "      <th>TAS-20</th>\n",
       "      <td>-0.004586</td>\n",
       "      <td>0.131823</td>\n",
       "      <td>0.023686</td>\n",
       "      <td>1.000000</td>\n",
       "      <td>0.707105</td>\n",
       "    </tr>\n",
       "    <tr>\n",
       "      <th>SRS</th>\n",
       "      <td>-0.020604</td>\n",
       "      <td>-0.044623</td>\n",
       "      <td>-0.007582</td>\n",
       "      <td>0.707105</td>\n",
       "      <td>1.000000</td>\n",
       "    </tr>\n",
       "  </tbody>\n",
       "</table>\n",
       "</div>"
      ],
      "text/plain": [
       "              ID    Gender       Age    TAS-20       SRS\n",
       "ID      1.000000 -0.002548 -0.011183 -0.004586 -0.020604\n",
       "Gender -0.002548  1.000000 -0.026359  0.131823 -0.044623\n",
       "Age    -0.011183 -0.026359  1.000000  0.023686 -0.007582\n",
       "TAS-20 -0.004586  0.131823  0.023686  1.000000  0.707105\n",
       "SRS    -0.020604 -0.044623 -0.007582  0.707105  1.000000"
      ]
     },
     "execution_count": 5,
     "metadata": {},
     "output_type": "execute_result"
    }
   ],
   "source": [
    "#This is showing correlations for specific columns\n",
    "#df[['TAS-20', 'SRS']].corr('pearson')\n",
    "\n",
    "#This is showing correlations for all data \n",
    "df.corr('pearson')"
   ]
  }
 ],
 "metadata": {
  "kernelspec": {
   "display_name": "Python 3",
   "language": "python",
   "name": "python3"
  },
  "language_info": {
   "codemirror_mode": {
    "name": "ipython",
    "version": 3
   },
   "file_extension": ".py",
   "mimetype": "text/x-python",
   "name": "python",
   "nbconvert_exporter": "python",
   "pygments_lexer": "ipython3",
   "version": "3.8.10"
  },
  "orig_nbformat": 4
 },
 "nbformat": 4,
 "nbformat_minor": 2
}
